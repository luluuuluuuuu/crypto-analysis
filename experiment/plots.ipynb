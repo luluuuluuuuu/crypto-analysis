{
 "cells": [
  {
   "cell_type": "code",
   "execution_count": 1,
   "metadata": {
    "scrolled": true
   },
   "outputs": [],
   "source": [
    "import matplotlib.pyplot as plt\n",
    "import numpy as np\n",
    "x1s = np.random.uniform(51, 75, 20)\n",
    "x2s = np.random.uniform(26, 45, 20)\n",
    "x3s = np.random.uniform(20, 40, 20)\n",
    "x4s = np.random.uniform(51, 75, 20)\n",
    "y1s = np.random.uniform(101, 150, 20)\n",
    "y2s = np.random.uniform(90, 150, 20)\n",
    "y3s = np.random.uniform(20, 70, 20)\n",
    "y4s = np.random.uniform(51, 100, 20)\n",
    "allx = [x1s, x2s, x3s, x4s]\n",
    "ally = [y1s, y2s, y3s, y4s]\n",
    "xs = [item for list in allx for item in list]\n",
    "ys = [item for list in ally for item in list]\n",
    "pointStyles = ['ro', 'bo', 'go', 'yo']\n",
    "for i in range(1, 80):\n",
    "    plt.plot(xs[i], ys[i], pointStyles[i%4])\n",
    "plt.xlabel('p1')\n",
    "plt.ylabel('p2')\n",
    "plt.axis([0, 100, 0, 160])\n",
    "plt.savefig('kmeans_before.png')"
   ]
  },
  {
   "cell_type": "code",
   "execution_count": 2,
   "metadata": {},
   "outputs": [],
   "source": [
    "plt.plot(x1s, y1s, 'ro')\n",
    "plt.plot(x2s, y2s, 'bo')\n",
    "plt.plot(x3s, y3s, 'go')\n",
    "plt.plot(x4s, y4s, 'yo')\n",
    "plt.xlabel('p1')\n",
    "plt.ylabel('p2')\n",
    "plt.axis([0, 100, 0, 160])\n",
    "plt.savefig('kmeans_after.png')"
   ]
  }
 ],
 "metadata": {
  "kernelspec": {
   "display_name": "Python 3",
   "language": "python",
   "name": "python3"
  },
  "language_info": {
   "codemirror_mode": {
    "name": "ipython",
    "version": 3
   },
   "file_extension": ".py",
   "mimetype": "text/x-python",
   "name": "python",
   "nbconvert_exporter": "python",
   "pygments_lexer": "ipython3",
   "version": "3.6.5"
  }
 },
 "nbformat": 4,
 "nbformat_minor": 2
}
