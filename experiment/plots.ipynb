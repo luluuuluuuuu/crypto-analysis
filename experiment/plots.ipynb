{
 "cells": [
  {
   "cell_type": "code",
   "execution_count": 11,
   "metadata": {
    "scrolled": true,
    "slideshow": {
     "slide_type": "notes"
    }
   },
   "outputs": [],
   "source": [
    "import matplotlib.pyplot as plt\n",
    "import matplotlib.mlab as mlab\n",
    "import numpy as np\n",
    "import math"
   ]
  },
  {
   "cell_type": "markdown",
   "metadata": {},
   "source": [
    "Normal Distribution"
   ]
  },
  {
   "cell_type": "code",
   "execution_count": 12,
   "metadata": {},
   "outputs": [
    {
     "name": "stderr",
     "output_type": "stream",
     "text": [
      "/Users/KenLu/anaconda/lib/python3.6/site-packages/ipykernel_launcher.py:6: MatplotlibDeprecationWarning: scipy.stats.norm.pdf\n",
      "  \n"
     ]
    },
    {
     "data": {
      "image/png": "[encoded data removed]",
      "text/plain": [
       "<Figure size 432x288 with 1 Axes>"
      ]
     },
     "metadata": {},
     "output_type": "display_data"
    }
   ],
   "source": [
    "mu = 0\n",
    "variance = 1\n",
    "sigma = math.sqrt(variance)\n",
    "x = np.linspace(mu - 3*sigma, mu + 3*sigma, 100)\n",
    "plt.axis('off')\n",
    "plt.plot(x, mlab.normpdf(x, mu, sigma))\n",
    "plt.show()\n",
    "plt.clf()"
   ]
  },
  {
   "cell_type": "markdown",
   "metadata": {},
   "source": [
    "K-means Before"
   ]
  },
  {
   "cell_type": "code",
   "execution_count": 13,
   "metadata": {},
   "outputs": [
    {
     "data": {
      "image/png": "[encoded data removed]",
      "text/plain": [
       "<Figure size 432x288 with 1 Axes>"
      ]
     },
     "metadata": {},
     "output_type": "display_data"
    }
   ],
   "source": [
    "x1s = np.random.uniform(51, 75, 20)\n",
    "x2s = np.random.uniform(26, 45, 20)\n",
    "x3s = np.random.uniform(20, 40, 20)\n",
    "x4s = np.random.uniform(51, 75, 20)\n",
    "y1s = np.random.uniform(101, 150, 20)\n",
    "y2s = np.random.uniform(90, 150, 20)\n",
    "y3s = np.random.uniform(20, 70, 20)\n",
    "y4s = np.random.uniform(51, 100, 20)\n",
    "allx = [x1s, x2s, x3s, x4s]\n",
    "ally = [y1s, y2s, y3s, y4s]\n",
    "xs = [item for list in allx for item in list]\n",
    "ys = [item for list in ally for item in list]\n",
    "pointStyles = ['ro', 'bo', 'go', 'yo']\n",
    "for i in range(1, 80):\n",
    "    plt.plot(xs[i], ys[i], pointStyles[i%4])\n",
    "plt.xlabel('p1')\n",
    "plt.ylabel('p2')\n",
    "plt.axis([0, 100, 0, 160])\n",
    "plt.show()\n",
    "plt.clf()"
   ]
  },
  {
   "cell_type": "markdown",
   "metadata": {},
   "source": [
    "K-means After"
   ]
  },
  {
   "cell_type": "code",
   "execution_count": null,
   "metadata": {
    "slideshow": {
     "slide_type": "slide"
    }
   },
   "outputs": [],
   "source": [
    "plt.plot(x1s, y1s, 'ro')\n",
    "plt.plot(x2s, y2s, 'bo')\n",
    "plt.plot(x3s, y3s, 'go')\n",
    "plt.plot(x4s, y4s, 'yo')\n",
    "plt.xlabel('p1')\n",
    "plt.ylabel('p2')\n",
    "plt.axis([0, 100, 0, 160])\n",
    "plt.show()\n",
    "plt.clf()"
   ]
  }
 ],
 "metadata": {
  "kernelspec": {
   "display_name": "Python 3",
   "language": "python",
   "name": "python3"
  },
  "language_info": {
   "codemirror_mode": {
    "name": "ipython",
    "version": 3
   },
   "file_extension": ".py",
   "mimetype": "text/x-python",
   "name": "python",
   "nbconvert_exporter": "python",
   "pygments_lexer": "ipython3",
   "version": "3.6.5"
  }
 },
 "nbformat": 4,
 "nbformat_minor": 2
}
