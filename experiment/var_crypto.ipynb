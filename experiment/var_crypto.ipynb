{
 "cells": [
  {
   "cell_type": "code",
   "execution_count": null,
   "metadata": {},
   "outputs": [],
   "source": [
    "import psycopg2 as pg\n",
    "import pandas as pd\n",
    "import numpy as np\n",
    "import math\n",
    "import matplotlib.pyplot as plt\n",
    "from mpl_toolkits.axes_grid1 import make_axes_locatable\n",
    "from datetime import date\n",
    "from tslearn.clustering import TimeSeriesKMeans\n",
    "from sklearn.decomposition import PCA"
   ]
  },
  {
   "cell_type": "code",
   "execution_count": null,
   "metadata": {},
   "outputs": [],
   "source": [
    "SEED = 1990\n",
    "N_CLUSTERS = 8\n",
    "WINDOW_SIZE = 100\n",
    "VAR_PERCENTILE_LEVEL = 5\n",
    "METRIC = \"dtw\"\n",
    "FONT = {'family': 'serif',\n",
    "        'color':  'black',\n",
    "        'weight': 'normal',\n",
    "        'size': 20,\n",
    "        }"
   ]
  },
  {
   "cell_type": "code",
   "execution_count": null,
   "metadata": {},
   "outputs": [],
   "source": [
    "connection = pg.connect(database=\"postgres\", user=\"postgres\", password=\"Crypto01\", host=\"localhost\", port=5430)\n",
    "cur = connection.cursor()"
   ]
  },
  {
   "cell_type": "code",
   "execution_count": null,
   "metadata": {},
   "outputs": [],
   "source": [
    "cur.execute(\"SELECT * FROM input.crypto_daily_changes ORDER BY date DESC\")\n",
    "data = sorted(cur.fetchall(), key=lambda row: row[0], reverse=False)\n",
    "daily_changes = pd.DataFrame(data=data, columns=[desc[0] for desc in cur.description], index=[row[0] for row in data], dtype=\"float64\")\n",
    "daily_changes = daily_changes.drop([\"date\"], axis=1)\n",
    "daily_changes = daily_changes[daily_changes.index <= date(2018, 7, 31)]\n",
    "daily_changes = daily_changes[daily_changes.index >= date(2016, 1, 1)]\n",
    "daily_changes = daily_changes - 1\n",
    "transpose_df = daily_changes.transpose()"
   ]
  },
  {
   "cell_type": "code",
   "execution_count": null,
   "metadata": {
    "scrolled": false
   },
   "outputs": [],
   "source": [
    "corr_mat = daily_changes.corr()\n",
    "cryptos = np.array(corr_mat.columns)\n",
    "plt.clf()\n",
    "plt.rcParams['figure.figsize'] = [20, 15]\n",
    "plt.matshow(corr_mat)\n",
    "plt.xticks(range(len(cryptos)), cryptos, rotation=\"vertical\", fontsize=24)\n",
    "plt.yticks(range(len(cryptos)), cryptos, fontsize=24)\n",
    "# plt.xlabel(\"Correlation\", fontdict=FONT)\n",
    "\n",
    "ax = plt.gca()\n",
    "divider = make_axes_locatable(ax)\n",
    "cax = divider.append_axes(\"right\", size=\"5%\", pad=0.1)\n",
    "\n",
    "plt.colorbar(cax=cax)\n",
    "plt.tick_params(labelsize=24)\n",
    "plt.show()"
   ]
  },
  {
   "cell_type": "code",
   "execution_count": null,
   "metadata": {},
   "outputs": [],
   "source": [
    "transpose_array = np.array(transpose_df)"
   ]
  },
  {
   "cell_type": "code",
   "execution_count": null,
   "metadata": {
    "scrolled": false
   },
   "outputs": [],
   "source": [
    "pca_plot = PCA(n_components=29)\n",
    "pca_plot.fit(transpose_array)\n",
    "\n",
    "cumsum_variance_ratio = np.cumsum(pca_plot.explained_variance_ratio_)\n",
    "pc_names = [\"PC\" + str(i) for i in range(1, 30)]\n",
    "\n",
    "plt.clf()\n",
    "plt.plot(cumsum_variance_ratio, color=\"darkorange\")\n",
    "plt.bar(range(0, 29), pca_plot.explained_variance_ratio_, color=\"blue\")\n",
    "plt.yticks(fontsize=24)\n",
    "plt.xticks(range(0, 29), pc_names, rotation=40, fontsize=24)\n",
    "plt.xlabel(\"Principal Component\", fontdict=FONT, fontsize=28)\n",
    "plt.ylabel(\"Explained Variance Percentage\", fontdict=FONT, fontsize=28)\n",
    "plt.show()"
   ]
  },
  {
   "cell_type": "code",
   "execution_count": null,
   "metadata": {
    "scrolled": false
   },
   "outputs": [],
   "source": [
    "pca = PCA(n_components=26)\n",
    "pca_array = pca.fit_transform(transpose_array)\n",
    "dba_km = TimeSeriesKMeans(n_clusters=N_CLUSTERS, max_iter=100, metric=METRIC, verbose=True, max_iter_barycenter=10, random_state=SEED)\n",
    "pred_clusters = dba_km.fit_predict(pca_array)"
   ]
  },
  {
   "cell_type": "code",
   "execution_count": null,
   "metadata": {},
   "outputs": [],
   "source": [
    "print(\"Percentage of interpretation:\", sum(pca.explained_variance_ratio_))"
   ]
  },
  {
   "cell_type": "code",
   "execution_count": null,
   "metadata": {},
   "outputs": [],
   "source": [
    "for cluster in set(pred_clusters):\n",
    "    print(\"Cluster\", cluster + 1, \":\", cryptos[np.where(pred_clusters == cluster)])"
   ]
  },
  {
   "cell_type": "code",
   "execution_count": null,
   "metadata": {},
   "outputs": [],
   "source": [
    "# Plot\n",
    "plt.clf()\n",
    "plt.rcParams['figure.figsize'] = [20, 15]\n",
    "for yi in set(pred_clusters):\n",
    "    plt.subplot(N_CLUSTERS/2 + 1, 2, yi + 1)\n",
    "    for xx in pca_array[pred_clusters == yi]:\n",
    "        plt.plot(xx.ravel(), \"k-\", alpha=.2)\n",
    "    plt.plot(dba_km.cluster_centers_[yi].ravel(), \"r-\")\n",
    "    plt.xlim(0, pca_array.shape[1])\n",
    "    plt.ylim(-4, 10)\n",
    "    title = \"Cluster : \" + str(yi + 1)\n",
    "    plt.title(title, fontdict=FONT, fontsize=32)\n",
    "    plt.xticks(fontsize=24)\n",
    "    plt.yticks(fontsize=24)\n",
    "    if yi % 2 == 0 :\n",
    "        plt.ylabel(\"Return\", rotation=\"vertical\", fontdict=FONT, fontsize=28)\n",
    "    if yi == 6 or yi == 7:\n",
    "        plt.xlabel(\"Principal Component\", fontdict=FONT, fontsize=28)\n",
    "    \n",
    "\n",
    "plt.tight_layout()\n",
    "plt.show()"
   ]
  },
  {
   "cell_type": "code",
   "execution_count": null,
   "metadata": {},
   "outputs": [],
   "source": [
    "vars_arr_before = []\n",
    "vars_arr_after = []\n",
    "\n",
    "for i in range(0, transpose_array.shape[1] - WINDOW_SIZE):\n",
    "    vars_arr_before.append([np.percentile(row, VAR_PERCENTILE_LEVEL) for row in transpose_array[:, i: i + WINDOW_SIZE]])\n",
    "    cluster_vars = [None] * 29\n",
    "    for j in set(pred_clusters):\n",
    "        var = np.percentile(np.hstack(transpose_array[pred_clusters == j, i: i + WINDOW_SIZE]), VAR_PERCENTILE_LEVEL)\n",
    "        for k in np.where(pred_clusters == j)[0]:\n",
    "            cluster_vars[k] = var\n",
    "    vars_arr_after.append(cluster_vars)\n",
    "\n",
    "vars_arr_before = np.array(vars_arr_before).transpose()\n",
    "vars_arr_after = np.array(vars_arr_after).transpose()"
   ]
  },
  {
   "cell_type": "code",
   "execution_count": null,
   "metadata": {},
   "outputs": [],
   "source": [
    "vars_arr_before"
   ]
  },
  {
   "cell_type": "code",
   "execution_count": null,
   "metadata": {},
   "outputs": [],
   "source": [
    "vars_arr_after"
   ]
  },
  {
   "cell_type": "code",
   "execution_count": null,
   "metadata": {},
   "outputs": [],
   "source": [
    "vars_arr_after.shape"
   ]
  },
  {
   "cell_type": "code",
   "execution_count": null,
   "metadata": {},
   "outputs": [],
   "source": [
    "vars_arr_before.shape"
   ]
  },
  {
   "cell_type": "code",
   "execution_count": null,
   "metadata": {},
   "outputs": [],
   "source": [
    "count = 0\n",
    "for i in range(0, 28):\n",
    "    count += np.sum(transpose_array[i, WINDOW_SIZE:] < vars_arr_before[i, :]) >= 42\n",
    "p_value_1side_before = 1 - count/29"
   ]
  },
  {
   "cell_type": "code",
   "execution_count": null,
   "metadata": {},
   "outputs": [],
   "source": [
    "p_value_1side_before"
   ]
  },
  {
   "cell_type": "code",
   "execution_count": null,
   "metadata": {},
   "outputs": [],
   "source": [
    "count = 0\n",
    "for i in range(0, 28):\n",
    "    count += np.sum(transpose_array[i, WINDOW_SIZE:] < vars_arr_after[i, :]) >= 42\n",
    "p_value_1side_after = 1 - count/29"
   ]
  },
  {
   "cell_type": "code",
   "execution_count": null,
   "metadata": {},
   "outputs": [],
   "source": [
    "p_value_1side_after"
   ]
  },
  {
   "cell_type": "code",
   "execution_count": null,
   "metadata": {},
   "outputs": [],
   "source": [
    "accuracies_before = np.array([np.sum(transpose_array[i, WINDOW_SIZE:] > vars_arr_before[i, :]) / vars_arr_before.shape[1] for i in range(0, vars_arr_before.shape[0])])\n",
    "accuracies_after = np.array([np.sum(transpose_array[i, WINDOW_SIZE:] > vars_arr_after[i, :]) / vars_arr_after.shape[1] for i in range(0, vars_arr_after.shape[0])])"
   ]
  },
  {
   "cell_type": "code",
   "execution_count": null,
   "metadata": {},
   "outputs": [],
   "source": [
    "accuracies_before"
   ]
  },
  {
   "cell_type": "code",
   "execution_count": null,
   "metadata": {},
   "outputs": [],
   "source": [
    "accuracies_after"
   ]
  },
  {
   "cell_type": "code",
   "execution_count": null,
   "metadata": {},
   "outputs": [],
   "source": [
    "np.mean(accuracies_before)"
   ]
  },
  {
   "cell_type": "code",
   "execution_count": null,
   "metadata": {},
   "outputs": [],
   "source": [
    "np.mean(accuracies_after)"
   ]
  }
 ],
 "metadata": {
  "kernelspec": {
   "display_name": "Python 3",
   "language": "python",
   "name": "python3"
  },
  "language_info": {
   "codemirror_mode": {
    "name": "ipython",
    "version": 3
   },
   "file_extension": ".py",
   "mimetype": "text/x-python",
   "name": "python",
   "nbconvert_exporter": "python",
   "pygments_lexer": "ipython3",
   "version": "3.6.5"
  }
 },
 "nbformat": 4,
 "nbformat_minor": 2
}
