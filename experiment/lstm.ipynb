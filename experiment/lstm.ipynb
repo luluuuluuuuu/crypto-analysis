{
 "cells": [
  {
   "cell_type": "code",
   "execution_count": 242,
   "metadata": {
    "scrolled": false
   },
   "outputs": [],
   "source": [
    "import numpy as np\n",
    "import pandas as pd\n",
    "import matplotlib.pyplot as plt\n",
    "from keras.layers.core import Dense, Activation, Dropout\n",
    "from keras.layers.recurrent import LSTM\n",
    "from keras.models import Sequential\n",
    "from sklearn.metrics import log_loss\n",
    "import time\n",
    "\n",
    "SPLITDATE = \"2018-01-01\"\n",
    "windowLen = 10\n",
    "\n",
    "df = pd.read_csv(\"daily_changes.csv\", sep=\",\")[[\"date\", \"BTC\", \"ETH\", \"DOGE\", \"LTC\", \"XRP\"]]\n",
    "\n",
    "trainingSet, testSet = df[df[\"date\"] < SPLITDATE], df[df[\"date\"] >= SPLITDATE]\n",
    "trainingSet = trainingSet.drop([\"date\"], 1)\n",
    "testSet = testSet.drop([\"date\"], 1)\n",
    "\n",
    "trainingLabels = trainingSet.copy()[1 + windowLen:]\n",
    "testLabels = testSet.copy()[1 + windowLen:]\n",
    "\n",
    "trainingSet = trainingSet[:trainingSet.shape[0] - 1]\n",
    "testSet = testSet[:testSet.shape[0] - 1]\n",
    "\n",
    "trainingLabels = trainingLabels.assign(max=df.max(axis=1))\n",
    "testLabels = testLabels.assign(max=df.max(axis=1))\n",
    "\n",
    "columns = list(filter(lambda x: x not in (\"max\", \"date\"), df.columns))\n",
    "for column in columns:\n",
    "    trainingLabels.loc[trainingLabels[column] != trainingLabels[\"max\"], column] = 0\n",
    "    trainingLabels.loc[trainingLabels[column] == trainingLabels[\"max\"], column] = 1\n",
    "    testLabels.loc[testLabels[column] != testLabels[\"max\"], column] = 0\n",
    "    testLabels.loc[testLabels[column] == testLabels[\"max\"], column] = 1\n",
    "\n",
    "trainingLabels = trainingLabels.drop([\"max\"], 1).applymap(lambda x: int(x))\n",
    "testLabels = testLabels.drop([\"max\"], 1).applymap(lambda x: int(x))\n",
    "\n",
    "trainingInputs = []\n",
    "for i in range(len(trainingSet) - windowLen):\n",
    "    tmpSet = trainingSet[i:(i + windowLen)].copy()\n",
    "\n",
    "    for col in list(tmpSet.columns):\n",
    "        tmpSet[col] = tmpSet[col]/tmpSet[col].iloc[0] - 1\n",
    "\n",
    "    trainingInputs.append(tmpSet)\n",
    "\n",
    "trainingInputs = [np.array(trainingInput) for trainingInput in trainingInputs]\n",
    "trainingInputs = np.array(trainingInputs)\n",
    "\n",
    "testInputs = []\n",
    "for i in range(len(testSet) - windowLen):\n",
    "    tmpSet = testSet[i:(i + windowLen)].copy()\n",
    "\n",
    "    for col in list(tmpSet.columns):\n",
    "        tmpSet[col] = tmpSet[col]/tmpSet[col].iloc[0] - 1\n",
    "\n",
    "    testInputs.append(tmpSet)\n",
    "\n",
    "testInputs = [np.array(testInput) for testInput in testInputs]\n",
    "testInputs = np.array(testInputs)"
   ]
  },
  {
   "cell_type": "code",
   "execution_count": 243,
   "metadata": {
    "scrolled": false
   },
   "outputs": [
    {
     "name": "stdout",
     "output_type": "stream",
     "text": [
      "_________________________________________________________________\n",
      "Layer (type)                 Output Shape              Param #   \n",
      "=================================================================\n",
      "lstm_29 (LSTM)               (None, 512)               1060864   \n",
      "_________________________________________________________________\n",
      "dropout_29 (Dropout)         (None, 512)               0         \n",
      "_________________________________________________________________\n",
      "dense_29 (Dense)             (None, 5)                 2565      \n",
      "=================================================================\n",
      "Total params: 1,063,429\n",
      "Trainable params: 1,063,429\n",
      "Non-trainable params: 0\n",
      "_________________________________________________________________\n",
      "compilation time :  0.031411170959472656\n"
     ]
    },
    {
     "name": "stderr",
     "output_type": "stream",
     "text": [
      "/Users/KenLu/anaconda/lib/python3.6/site-packages/keras/models.py:981: UserWarning: The `nb_epoch` argument in `fit` has been renamed `epochs`.\n",
      "  warnings.warn('The `nb_epoch` argument in `fit` '\n"
     ]
    },
    {
     "name": "stdout",
     "output_type": "stream",
     "text": [
      "Train on 336 samples, validate on 18 samples\n",
      "Epoch 1/10\n",
      "336/336 [==============================] - 4s 11ms/step - loss: 1.6126 - acc: 0.1786 - val_loss: 1.6081 - val_acc: 0.1111\n",
      "Epoch 2/10\n",
      "336/336 [==============================] - 0s 973us/step - loss: 1.6094 - acc: 0.2173 - val_loss: 1.6007 - val_acc: 0.1667\n",
      "Epoch 3/10\n",
      "336/336 [==============================] - 0s 939us/step - loss: 1.6019 - acc: 0.2321 - val_loss: 1.5967 - val_acc: 0.1111\n",
      "Epoch 4/10\n",
      "336/336 [==============================] - 0s 957us/step - loss: 1.5982 - acc: 0.2530 - val_loss: 1.6107 - val_acc: 0.1667\n",
      "Epoch 5/10\n",
      "336/336 [==============================] - 0s 955us/step - loss: 1.5978 - acc: 0.2530 - val_loss: 1.5969 - val_acc: 0.2222\n",
      "Epoch 6/10\n",
      "336/336 [==============================] - 0s 954us/step - loss: 1.5988 - acc: 0.2351 - val_loss: 1.6107 - val_acc: 0.2778\n",
      "Epoch 7/10\n",
      "336/336 [==============================] - 0s 970us/step - loss: 1.5936 - acc: 0.2351 - val_loss: 1.6051 - val_acc: 0.2778\n",
      "Epoch 8/10\n",
      "336/336 [==============================] - 0s 980us/step - loss: 1.5939 - acc: 0.2530 - val_loss: 1.5826 - val_acc: 0.2778\n",
      "Epoch 9/10\n",
      "336/336 [==============================] - 0s 974us/step - loss: 1.5917 - acc: 0.2321 - val_loss: 1.5515 - val_acc: 0.2778\n",
      "Epoch 10/10\n",
      "336/336 [==============================] - 0s 950us/step - loss: 1.5855 - acc: 0.2530 - val_loss: 1.5604 - val_acc: 0.2222\n"
     ]
    },
    {
     "data": {
      "text/plain": [
       "<keras.callbacks.History at 0x15d58b2e8>"
      ]
     },
     "execution_count": 243,
     "metadata": {},
     "output_type": "execute_result"
    }
   ],
   "source": [
    "# Model Building\n",
    "\n",
    "model = Sequential()\n",
    "\n",
    "model.add(LSTM(\n",
    "    units=512,\n",
    "    input_shape=(trainingInputs.shape[1], trainingInputs.shape[2])\n",
    "))\n",
    "model.add(Dropout(0.2))\n",
    "\n",
    "model.add(Dense(units=trainingLabels.shape[1], activation=\"softmax\"))\n",
    "\n",
    "model.summary()\n",
    "\n",
    "start = time.time()\n",
    "model.compile(\n",
    "    loss=\"categorical_crossentropy\",\n",
    "    optimizer=\"rmsprop\",\n",
    "    metrics=[\"accuracy\"]\n",
    ")\n",
    "print(\"compilation time : \", time.time() - start)\n",
    "\n",
    "model.fit(\n",
    "    trainingInputs,\n",
    "    trainingLabels,\n",
    "    batch_size=50,\n",
    "    nb_epoch=10,\n",
    "    validation_split=0.05\n",
    ")"
   ]
  },
  {
   "cell_type": "code",
   "execution_count": 247,
   "metadata": {},
   "outputs": [
    {
     "name": "stdout",
     "output_type": "stream",
     "text": [
      "Training Accuracy:  0.268361581920904\n",
      "Test Accuracy:  0.16393442622950818\n"
     ]
    }
   ],
   "source": [
    "# Accuracy\n",
    "\n",
    "topK = 1\n",
    "\n",
    "training_predicted = model.predict(trainingInputs)\n",
    "training_predicted_classes = np.fliplr(training_predicted.argsort(axis=1))[:,:topK]\n",
    "training_actual_classes = np.argmax(np.array(trainingLabels), axis=1)\n",
    "\n",
    "training_predictions = []\n",
    "for i,x in enumerate(training_actual_classes):\n",
    "    training_predictions.append(x in training_predicted_classes[i])\n",
    "\n",
    "print(\"Training Accuracy: \", training_predictions.count(True)/len(training_predictions))\n",
    "\n",
    "test_predicted = model.predict(testInputs)\n",
    "test_predicted_classes = np.fliplr(test_predicted.argsort(axis=1))[:,:topK]\n",
    "test_actual_classes = np.argmax(np.array(testLabels), axis=1)\n",
    "\n",
    "test_predictions = []\n",
    "for i,x in enumerate(test_actual_classes):\n",
    "    test_predictions.append(x in test_predicted_classes[i])\n",
    "\n",
    "print(\"Test Accuracy: \", test_predictions.count(True)/len(test_predictions))"
   ]
  },
  {
   "cell_type": "code",
   "execution_count": 182,
   "metadata": {
    "scrolled": true
   },
   "outputs": [
    {
     "data": {
      "image/png": "[encoded data removed]",
      "text/plain": [
       "<Figure size 432x288 with 1 Axes>"
      ]
     },
     "metadata": {},
     "output_type": "display_data"
    },
    {
     "name": "stdout",
     "output_type": "stream",
     "text": [
      "The Cross Entropy Loss is: 2.635007719009441\n"
     ]
    }
   ],
   "source": [
    "# Ploting\n",
    "\n",
    "plt.scatter(x=range(training_actual_classes[:10].shape[0]), y=training_actual_classes[:10], label=\"actual\")\n",
    "plt.scatter(x=range(training_predicted_classes[:10].shape[0]), y=[c[0] for c in training_predicted_classes[:10, 0:]], label=\"predicted\")\n",
    "plt.scatter(x=range(training_predicted_classes[:10].shape[0]), y=[c[0] for c in training_predicted_classes[:10, 1:]], label=\"predicted\")\n",
    "plt.scatter(x=range(training_predicted_classes[:10].shape[0]), y=[c[0] for c in training_predicted_classes[:10, 2:]], label=\"predicted\")\n",
    "plt.scatter(x=range(training_predicted_classes[:10].shape[0]), y=[c[0] for c in training_predicted_classes[:10, 3:]], label=\"predicted\")\n",
    "plt.scatter(x=range(training_predicted_classes[:10].shape[0]), y=[c[0] for c in training_predicted_classes[:10, 4:]], label=\"predicted\")\n",
    "plt.legend()\n",
    "plt.show()\n",
    "CEL = log_loss(trainingLabels, model.predict(trainingInputs))\n",
    "print('The Cross Entropy Loss is: {}'.format(CEL))"
   ]
  }
 ],
 "metadata": {
  "kernelspec": {
   "display_name": "Python 3",
   "language": "python",
   "name": "python3"
  },
  "language_info": {
   "codemirror_mode": {
    "name": "ipython",
    "version": 3
   },
   "file_extension": ".py",
   "mimetype": "text/x-python",
   "name": "python",
   "nbconvert_exporter": "python",
   "pygments_lexer": "ipython3",
   "version": "3.6.5"
  }
 },
 "nbformat": 4,
 "nbformat_minor": 2
}
